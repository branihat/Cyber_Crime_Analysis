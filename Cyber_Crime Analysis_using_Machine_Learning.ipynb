{
 "cells": [
  {
   "cell_type": "markdown",
   "id": "6c5ffed4",
   "metadata": {},
   "source": [
    "# Cyber Crime Analysis using Machine Learning\n"
   ]
  },
  {
   "cell_type": "code",
   "execution_count": 2,
   "id": "8fae277c",
   "metadata": {},
   "outputs": [],
   "source": [
    "import numpy as np\n",
    "import pandas as pd\n",
    "import matplotlib.pyplot as plt\n",
    "import seaborn as sns\n",
    "import warnings\n",
    "warnings.filterwarnings('ignore')"
   ]
  },
  {
   "cell_type": "code",
   "execution_count": 3,
   "id": "7f3e82c0",
   "metadata": {},
   "outputs": [],
   "source": [
    "crime_data = pd.read_csv('cyber-crime.csv')"
   ]
  },
  {
   "cell_type": "code",
   "execution_count": 4,
   "id": "b6c37a66",
   "metadata": {},
   "outputs": [
    {
     "data": {
      "text/html": [
       "<div>\n",
       "<style scoped>\n",
       "    .dataframe tbody tr th:only-of-type {\n",
       "        vertical-align: middle;\n",
       "    }\n",
       "\n",
       "    .dataframe tbody tr th {\n",
       "        vertical-align: top;\n",
       "    }\n",
       "\n",
       "    .dataframe thead th {\n",
       "        text-align: right;\n",
       "    }\n",
       "</style>\n",
       "<table border=\"1\" class=\"dataframe\">\n",
       "  <thead>\n",
       "    <tr style=\"text-align: right;\">\n",
       "      <th></th>\n",
       "      <th>S. No</th>\n",
       "      <th>Category</th>\n",
       "      <th>State/UT</th>\n",
       "      <th>2016</th>\n",
       "      <th>2017</th>\n",
       "      <th>2018</th>\n",
       "      <th>Percentage Share of State/UT (2018)</th>\n",
       "      <th>Mid-Year Projected Population (in Lakhs) (2018)+</th>\n",
       "      <th>Rate of Total Cyber Crimes (2018)++</th>\n",
       "    </tr>\n",
       "  </thead>\n",
       "  <tbody>\n",
       "    <tr>\n",
       "      <th>0</th>\n",
       "      <td>1</td>\n",
       "      <td>State</td>\n",
       "      <td>Andhra Pradesh</td>\n",
       "      <td>616</td>\n",
       "      <td>931</td>\n",
       "      <td>1207</td>\n",
       "      <td>4.4</td>\n",
       "      <td>520.3</td>\n",
       "      <td>2.3</td>\n",
       "    </tr>\n",
       "    <tr>\n",
       "      <th>1</th>\n",
       "      <td>2</td>\n",
       "      <td>State</td>\n",
       "      <td>Arunachal Pradesh</td>\n",
       "      <td>4</td>\n",
       "      <td>1</td>\n",
       "      <td>7</td>\n",
       "      <td>0.0</td>\n",
       "      <td>14.9</td>\n",
       "      <td>0.5</td>\n",
       "    </tr>\n",
       "    <tr>\n",
       "      <th>2</th>\n",
       "      <td>3</td>\n",
       "      <td>State</td>\n",
       "      <td>Assam</td>\n",
       "      <td>696</td>\n",
       "      <td>1120</td>\n",
       "      <td>2022</td>\n",
       "      <td>7.4</td>\n",
       "      <td>340.4</td>\n",
       "      <td>5.9</td>\n",
       "    </tr>\n",
       "    <tr>\n",
       "      <th>3</th>\n",
       "      <td>4</td>\n",
       "      <td>State</td>\n",
       "      <td>Bihar</td>\n",
       "      <td>309</td>\n",
       "      <td>433</td>\n",
       "      <td>374</td>\n",
       "      <td>1.4</td>\n",
       "      <td>1183.3</td>\n",
       "      <td>0.3</td>\n",
       "    </tr>\n",
       "    <tr>\n",
       "      <th>4</th>\n",
       "      <td>5</td>\n",
       "      <td>State</td>\n",
       "      <td>Chhattisgarh</td>\n",
       "      <td>90</td>\n",
       "      <td>171</td>\n",
       "      <td>139</td>\n",
       "      <td>0.5</td>\n",
       "      <td>284.7</td>\n",
       "      <td>0.5</td>\n",
       "    </tr>\n",
       "  </tbody>\n",
       "</table>\n",
       "</div>"
      ],
      "text/plain": [
       "  S. No Category           State/UT  2016  2017  2018  \\\n",
       "0     1    State     Andhra Pradesh   616   931  1207   \n",
       "1     2    State  Arunachal Pradesh     4     1     7   \n",
       "2     3    State              Assam   696  1120  2022   \n",
       "3     4    State              Bihar   309   433   374   \n",
       "4     5    State       Chhattisgarh    90   171   139   \n",
       "\n",
       "   Percentage Share of State/UT (2018)  \\\n",
       "0                                  4.4   \n",
       "1                                  0.0   \n",
       "2                                  7.4   \n",
       "3                                  1.4   \n",
       "4                                  0.5   \n",
       "\n",
       "   Mid-Year Projected Population (in Lakhs) (2018)+  \\\n",
       "0                                             520.3   \n",
       "1                                              14.9   \n",
       "2                                             340.4   \n",
       "3                                            1183.3   \n",
       "4                                             284.7   \n",
       "\n",
       "   Rate of Total Cyber Crimes (2018)++  \n",
       "0                                  2.3  \n",
       "1                                  0.5  \n",
       "2                                  5.9  \n",
       "3                                  0.3  \n",
       "4                                  0.5  "
      ]
     },
     "execution_count": 4,
     "metadata": {},
     "output_type": "execute_result"
    }
   ],
   "source": [
    "crime_data.head()"
   ]
  },
  {
   "cell_type": "code",
   "execution_count": 5,
   "id": "5488d77d",
   "metadata": {},
   "outputs": [
    {
     "data": {
      "text/html": [
       "<div>\n",
       "<style scoped>\n",
       "    .dataframe tbody tr th:only-of-type {\n",
       "        vertical-align: middle;\n",
       "    }\n",
       "\n",
       "    .dataframe tbody tr th {\n",
       "        vertical-align: top;\n",
       "    }\n",
       "\n",
       "    .dataframe thead th {\n",
       "        text-align: right;\n",
       "    }\n",
       "</style>\n",
       "<table border=\"1\" class=\"dataframe\">\n",
       "  <thead>\n",
       "    <tr style=\"text-align: right;\">\n",
       "      <th></th>\n",
       "      <th>S. No</th>\n",
       "      <th>Category</th>\n",
       "      <th>State/UT</th>\n",
       "      <th>2016</th>\n",
       "      <th>2017</th>\n",
       "      <th>2018</th>\n",
       "      <th>Percentage Share of State/UT (2018)</th>\n",
       "      <th>Mid-Year Projected Population (in Lakhs) (2018)+</th>\n",
       "      <th>Rate of Total Cyber Crimes (2018)++</th>\n",
       "    </tr>\n",
       "  </thead>\n",
       "  <tbody>\n",
       "    <tr>\n",
       "      <th>34</th>\n",
       "      <td>34</td>\n",
       "      <td>Union Territory</td>\n",
       "      <td>Delhi UT</td>\n",
       "      <td>98</td>\n",
       "      <td>162</td>\n",
       "      <td>189</td>\n",
       "      <td>0.7</td>\n",
       "      <td>195.6</td>\n",
       "      <td>1.0</td>\n",
       "    </tr>\n",
       "    <tr>\n",
       "      <th>35</th>\n",
       "      <td>35</td>\n",
       "      <td>Union Territory</td>\n",
       "      <td>Lakshadweep</td>\n",
       "      <td>0</td>\n",
       "      <td>0</td>\n",
       "      <td>4</td>\n",
       "      <td>0.0</td>\n",
       "      <td>0.7</td>\n",
       "      <td>6.0</td>\n",
       "    </tr>\n",
       "    <tr>\n",
       "      <th>36</th>\n",
       "      <td>36</td>\n",
       "      <td>Union Territory</td>\n",
       "      <td>Puducherry</td>\n",
       "      <td>2</td>\n",
       "      <td>5</td>\n",
       "      <td>14</td>\n",
       "      <td>0.1</td>\n",
       "      <td>14.8</td>\n",
       "      <td>0.9</td>\n",
       "    </tr>\n",
       "    <tr>\n",
       "      <th>37</th>\n",
       "      <td>Union Territory</td>\n",
       "      <td>Union Territory</td>\n",
       "      <td>Total UT(s)</td>\n",
       "      <td>130</td>\n",
       "      <td>203</td>\n",
       "      <td>244</td>\n",
       "      <td>0.9</td>\n",
       "      <td>236.0</td>\n",
       "      <td>1.0</td>\n",
       "    </tr>\n",
       "    <tr>\n",
       "      <th>38</th>\n",
       "      <td>Total (All India)</td>\n",
       "      <td>Total (All India)</td>\n",
       "      <td>Total (All India)</td>\n",
       "      <td>12317</td>\n",
       "      <td>21796</td>\n",
       "      <td>27248</td>\n",
       "      <td>100.0</td>\n",
       "      <td>13233.8</td>\n",
       "      <td>2.1</td>\n",
       "    </tr>\n",
       "  </tbody>\n",
       "</table>\n",
       "</div>"
      ],
      "text/plain": [
       "                S. No           Category           State/UT   2016   2017  \\\n",
       "34                 34    Union Territory           Delhi UT     98    162   \n",
       "35                 35    Union Territory        Lakshadweep      0      0   \n",
       "36                 36    Union Territory         Puducherry      2      5   \n",
       "37    Union Territory    Union Territory        Total UT(s)    130    203   \n",
       "38  Total (All India)  Total (All India)  Total (All India)  12317  21796   \n",
       "\n",
       "     2018  Percentage Share of State/UT (2018)  \\\n",
       "34    189                                  0.7   \n",
       "35      4                                  0.0   \n",
       "36     14                                  0.1   \n",
       "37    244                                  0.9   \n",
       "38  27248                                100.0   \n",
       "\n",
       "    Mid-Year Projected Population (in Lakhs) (2018)+  \\\n",
       "34                                             195.6   \n",
       "35                                               0.7   \n",
       "36                                              14.8   \n",
       "37                                             236.0   \n",
       "38                                           13233.8   \n",
       "\n",
       "    Rate of Total Cyber Crimes (2018)++  \n",
       "34                                  1.0  \n",
       "35                                  6.0  \n",
       "36                                  0.9  \n",
       "37                                  1.0  \n",
       "38                                  2.1  "
      ]
     },
     "execution_count": 5,
     "metadata": {},
     "output_type": "execute_result"
    }
   ],
   "source": [
    "crime_data.tail()"
   ]
  },
  {
   "cell_type": "code",
   "execution_count": 6,
   "id": "eb03afaa",
   "metadata": {},
   "outputs": [
    {
     "data": {
      "text/plain": [
       "(39, 9)"
      ]
     },
     "execution_count": 6,
     "metadata": {},
     "output_type": "execute_result"
    }
   ],
   "source": [
    "crime_data.shape"
   ]
  },
  {
   "cell_type": "code",
   "execution_count": 7,
   "id": "9b344950",
   "metadata": {},
   "outputs": [
    {
     "data": {
      "text/plain": [
       "Index(['S. No', 'Category', 'State/UT', '2016', '2017', '2018',\n",
       "       'Percentage Share of State/UT (2018)',\n",
       "       'Mid-Year Projected Population (in Lakhs) (2018)+',\n",
       "       'Rate of Total Cyber Crimes (2018)++'],\n",
       "      dtype='object')"
      ]
     },
     "execution_count": 7,
     "metadata": {},
     "output_type": "execute_result"
    }
   ],
   "source": [
    "crime_data.columns"
   ]
  },
  {
   "cell_type": "code",
   "execution_count": 8,
   "id": "5143ac96",
   "metadata": {},
   "outputs": [
    {
     "name": "stdout",
     "output_type": "stream",
     "text": [
      "<class 'pandas.core.frame.DataFrame'>\n",
      "RangeIndex: 39 entries, 0 to 38\n",
      "Data columns (total 9 columns):\n",
      " #   Column                                            Non-Null Count  Dtype  \n",
      "---  ------                                            --------------  -----  \n",
      " 0   S. No                                             39 non-null     object \n",
      " 1   Category                                          39 non-null     object \n",
      " 2   State/UT                                          39 non-null     object \n",
      " 3   2016                                              39 non-null     int64  \n",
      " 4   2017                                              39 non-null     int64  \n",
      " 5   2018                                              39 non-null     int64  \n",
      " 6   Percentage Share of State/UT (2018)               39 non-null     float64\n",
      " 7   Mid-Year Projected Population (in Lakhs) (2018)+  39 non-null     float64\n",
      " 8   Rate of Total Cyber Crimes (2018)++               39 non-null     float64\n",
      "dtypes: float64(3), int64(3), object(3)\n",
      "memory usage: 2.9+ KB\n"
     ]
    }
   ],
   "source": [
    "crime_data.info()"
   ]
  },
  {
   "cell_type": "code",
   "execution_count": 9,
   "id": "26901591",
   "metadata": {},
   "outputs": [
    {
     "data": {
      "text/html": [
       "<div>\n",
       "<style scoped>\n",
       "    .dataframe tbody tr th:only-of-type {\n",
       "        vertical-align: middle;\n",
       "    }\n",
       "\n",
       "    .dataframe tbody tr th {\n",
       "        vertical-align: top;\n",
       "    }\n",
       "\n",
       "    .dataframe thead th {\n",
       "        text-align: right;\n",
       "    }\n",
       "</style>\n",
       "<table border=\"1\" class=\"dataframe\">\n",
       "  <thead>\n",
       "    <tr style=\"text-align: right;\">\n",
       "      <th></th>\n",
       "      <th>2016</th>\n",
       "      <th>2017</th>\n",
       "      <th>2018</th>\n",
       "      <th>Percentage Share of State/UT (2018)</th>\n",
       "      <th>Mid-Year Projected Population (in Lakhs) (2018)+</th>\n",
       "      <th>Rate of Total Cyber Crimes (2018)++</th>\n",
       "    </tr>\n",
       "  </thead>\n",
       "  <tbody>\n",
       "    <tr>\n",
       "      <th>count</th>\n",
       "      <td>39.000000</td>\n",
       "      <td>39.000000</td>\n",
       "      <td>39.000000</td>\n",
       "      <td>39.000000</td>\n",
       "      <td>39.000000</td>\n",
       "      <td>39.000000</td>\n",
       "    </tr>\n",
       "    <tr>\n",
       "      <th>mean</th>\n",
       "      <td>947.461538</td>\n",
       "      <td>1676.615385</td>\n",
       "      <td>2096.000000</td>\n",
       "      <td>7.689744</td>\n",
       "      <td>1017.987179</td>\n",
       "      <td>1.689744</td>\n",
       "    </tr>\n",
       "    <tr>\n",
       "      <th>std</th>\n",
       "      <td>2724.974532</td>\n",
       "      <td>4832.658115</td>\n",
       "      <td>6065.161416</td>\n",
       "      <td>22.257391</td>\n",
       "      <td>2885.991893</td>\n",
       "      <td>1.811193</td>\n",
       "    </tr>\n",
       "    <tr>\n",
       "      <th>min</th>\n",
       "      <td>0.000000</td>\n",
       "      <td>0.000000</td>\n",
       "      <td>0.000000</td>\n",
       "      <td>0.000000</td>\n",
       "      <td>0.700000</td>\n",
       "      <td>0.000000</td>\n",
       "    </tr>\n",
       "    <tr>\n",
       "      <th>25%</th>\n",
       "      <td>9.500000</td>\n",
       "      <td>11.500000</td>\n",
       "      <td>24.500000</td>\n",
       "      <td>0.100000</td>\n",
       "      <td>18.300000</td>\n",
       "      <td>0.500000</td>\n",
       "    </tr>\n",
       "    <tr>\n",
       "      <th>50%</th>\n",
       "      <td>102.000000</td>\n",
       "      <td>176.000000</td>\n",
       "      <td>239.000000</td>\n",
       "      <td>0.900000</td>\n",
       "      <td>284.000000</td>\n",
       "      <td>1.000000</td>\n",
       "    </tr>\n",
       "    <tr>\n",
       "      <th>75%</th>\n",
       "      <td>439.500000</td>\n",
       "      <td>772.000000</td>\n",
       "      <td>886.500000</td>\n",
       "      <td>3.250000</td>\n",
       "      <td>663.850000</td>\n",
       "      <td>2.200000</td>\n",
       "    </tr>\n",
       "    <tr>\n",
       "      <th>max</th>\n",
       "      <td>12317.000000</td>\n",
       "      <td>21796.000000</td>\n",
       "      <td>27248.000000</td>\n",
       "      <td>100.000000</td>\n",
       "      <td>13233.800000</td>\n",
       "      <td>8.900000</td>\n",
       "    </tr>\n",
       "  </tbody>\n",
       "</table>\n",
       "</div>"
      ],
      "text/plain": [
       "               2016          2017          2018  \\\n",
       "count     39.000000     39.000000     39.000000   \n",
       "mean     947.461538   1676.615385   2096.000000   \n",
       "std     2724.974532   4832.658115   6065.161416   \n",
       "min        0.000000      0.000000      0.000000   \n",
       "25%        9.500000     11.500000     24.500000   \n",
       "50%      102.000000    176.000000    239.000000   \n",
       "75%      439.500000    772.000000    886.500000   \n",
       "max    12317.000000  21796.000000  27248.000000   \n",
       "\n",
       "       Percentage Share of State/UT (2018)  \\\n",
       "count                            39.000000   \n",
       "mean                              7.689744   \n",
       "std                              22.257391   \n",
       "min                               0.000000   \n",
       "25%                               0.100000   \n",
       "50%                               0.900000   \n",
       "75%                               3.250000   \n",
       "max                             100.000000   \n",
       "\n",
       "       Mid-Year Projected Population (in Lakhs) (2018)+  \\\n",
       "count                                         39.000000   \n",
       "mean                                        1017.987179   \n",
       "std                                         2885.991893   \n",
       "min                                            0.700000   \n",
       "25%                                           18.300000   \n",
       "50%                                          284.000000   \n",
       "75%                                          663.850000   \n",
       "max                                        13233.800000   \n",
       "\n",
       "       Rate of Total Cyber Crimes (2018)++  \n",
       "count                            39.000000  \n",
       "mean                              1.689744  \n",
       "std                               1.811193  \n",
       "min                               0.000000  \n",
       "25%                               0.500000  \n",
       "50%                               1.000000  \n",
       "75%                               2.200000  \n",
       "max                               8.900000  "
      ]
     },
     "execution_count": 9,
     "metadata": {},
     "output_type": "execute_result"
    }
   ],
   "source": [
    "crime_data.describe()"
   ]
  },
  {
   "cell_type": "code",
   "execution_count": 10,
   "id": "13624e09",
   "metadata": {},
   "outputs": [
    {
     "data": {
      "text/plain": [
       "S. No                                               0\n",
       "Category                                            0\n",
       "State/UT                                            0\n",
       "2016                                                0\n",
       "2017                                                0\n",
       "2018                                                0\n",
       "Percentage Share of State/UT (2018)                 0\n",
       "Mid-Year Projected Population (in Lakhs) (2018)+    0\n",
       "Rate of Total Cyber Crimes (2018)++                 0\n",
       "dtype: int64"
      ]
     },
     "execution_count": 10,
     "metadata": {},
     "output_type": "execute_result"
    }
   ],
   "source": [
    "crime_data.isnull().sum()"
   ]
  },
  {
   "cell_type": "code",
   "execution_count": 11,
   "id": "aea7e101",
   "metadata": {},
   "outputs": [
    {
     "data": {
      "text/plain": [
       "S. No                                               39\n",
       "Category                                             3\n",
       "State/UT                                            39\n",
       "2016                                                34\n",
       "2017                                                35\n",
       "2018                                                36\n",
       "Percentage Share of State/UT (2018)                 23\n",
       "Mid-Year Projected Population (in Lakhs) (2018)+    38\n",
       "Rate of Total Cyber Crimes (2018)++                 23\n",
       "dtype: int64"
      ]
     },
     "execution_count": 11,
     "metadata": {},
     "output_type": "execute_result"
    }
   ],
   "source": [
    "crime_data.nunique()"
   ]
  },
  {
   "cell_type": "code",
   "execution_count": 12,
   "id": "c7521eed",
   "metadata": {},
   "outputs": [
    {
     "data": {
      "text/plain": [
       "array(['State', 'Union Territory', 'Total (All India)'], dtype=object)"
      ]
     },
     "execution_count": 12,
     "metadata": {},
     "output_type": "execute_result"
    }
   ],
   "source": [
    "crime_data['Category'].unique()"
   ]
  },
  {
   "cell_type": "code",
   "execution_count": 13,
   "id": "960cb052",
   "metadata": {},
   "outputs": [
    {
     "data": {
      "text/plain": [
       "State                30\n",
       "Union Territory       8\n",
       "Total (All India)     1\n",
       "Name: Category, dtype: int64"
      ]
     },
     "execution_count": 13,
     "metadata": {},
     "output_type": "execute_result"
    }
   ],
   "source": [
    "crime_data['Category'].value_counts()"
   ]
  },
  {
   "cell_type": "code",
   "execution_count": 14,
   "id": "e0af4f8c",
   "metadata": {},
   "outputs": [
    {
     "data": {
      "text/html": [
       "<div>\n",
       "<style scoped>\n",
       "    .dataframe tbody tr th:only-of-type {\n",
       "        vertical-align: middle;\n",
       "    }\n",
       "\n",
       "    .dataframe tbody tr th {\n",
       "        vertical-align: top;\n",
       "    }\n",
       "\n",
       "    .dataframe thead th {\n",
       "        text-align: right;\n",
       "    }\n",
       "</style>\n",
       "<table border=\"1\" class=\"dataframe\">\n",
       "  <thead>\n",
       "    <tr style=\"text-align: right;\">\n",
       "      <th></th>\n",
       "      <th>2016</th>\n",
       "      <th>2017</th>\n",
       "      <th>2018</th>\n",
       "      <th>Percentage Share of State/UT (2018)</th>\n",
       "      <th>Mid-Year Projected Population (in Lakhs) (2018)+</th>\n",
       "      <th>Rate of Total Cyber Crimes (2018)++</th>\n",
       "    </tr>\n",
       "  </thead>\n",
       "  <tbody>\n",
       "    <tr>\n",
       "      <th>2016</th>\n",
       "      <td>1.00000</td>\n",
       "      <td>0.998590</td>\n",
       "      <td>0.993830</td>\n",
       "      <td>0.993860</td>\n",
       "      <td>0.992970</td>\n",
       "      <td>0.136820</td>\n",
       "    </tr>\n",
       "    <tr>\n",
       "      <th>2017</th>\n",
       "      <td>0.99859</td>\n",
       "      <td>1.000000</td>\n",
       "      <td>0.998014</td>\n",
       "      <td>0.998030</td>\n",
       "      <td>0.991394</td>\n",
       "      <td>0.164416</td>\n",
       "    </tr>\n",
       "    <tr>\n",
       "      <th>2018</th>\n",
       "      <td>0.99383</td>\n",
       "      <td>0.998014</td>\n",
       "      <td>1.000000</td>\n",
       "      <td>0.999999</td>\n",
       "      <td>0.986735</td>\n",
       "      <td>0.200750</td>\n",
       "    </tr>\n",
       "    <tr>\n",
       "      <th>Percentage Share of State/UT (2018)</th>\n",
       "      <td>0.99386</td>\n",
       "      <td>0.998030</td>\n",
       "      <td>0.999999</td>\n",
       "      <td>1.000000</td>\n",
       "      <td>0.986789</td>\n",
       "      <td>0.200419</td>\n",
       "    </tr>\n",
       "    <tr>\n",
       "      <th>Mid-Year Projected Population (in Lakhs) (2018)+</th>\n",
       "      <td>0.99297</td>\n",
       "      <td>0.991394</td>\n",
       "      <td>0.986735</td>\n",
       "      <td>0.986789</td>\n",
       "      <td>1.000000</td>\n",
       "      <td>0.077051</td>\n",
       "    </tr>\n",
       "    <tr>\n",
       "      <th>Rate of Total Cyber Crimes (2018)++</th>\n",
       "      <td>0.13682</td>\n",
       "      <td>0.164416</td>\n",
       "      <td>0.200750</td>\n",
       "      <td>0.200419</td>\n",
       "      <td>0.077051</td>\n",
       "      <td>1.000000</td>\n",
       "    </tr>\n",
       "  </tbody>\n",
       "</table>\n",
       "</div>"
      ],
      "text/plain": [
       "                                                     2016      2017      2018  \\\n",
       "2016                                              1.00000  0.998590  0.993830   \n",
       "2017                                              0.99859  1.000000  0.998014   \n",
       "2018                                              0.99383  0.998014  1.000000   \n",
       "Percentage Share of State/UT (2018)               0.99386  0.998030  0.999999   \n",
       "Mid-Year Projected Population (in Lakhs) (2018)+  0.99297  0.991394  0.986735   \n",
       "Rate of Total Cyber Crimes (2018)++               0.13682  0.164416  0.200750   \n",
       "\n",
       "                                                  Percentage Share of State/UT (2018)  \\\n",
       "2016                                                                         0.993860   \n",
       "2017                                                                         0.998030   \n",
       "2018                                                                         0.999999   \n",
       "Percentage Share of State/UT (2018)                                          1.000000   \n",
       "Mid-Year Projected Population (in Lakhs) (2018)+                             0.986789   \n",
       "Rate of Total Cyber Crimes (2018)++                                          0.200419   \n",
       "\n",
       "                                                  Mid-Year Projected Population (in Lakhs) (2018)+  \\\n",
       "2016                                                                                      0.992970   \n",
       "2017                                                                                      0.991394   \n",
       "2018                                                                                      0.986735   \n",
       "Percentage Share of State/UT (2018)                                                       0.986789   \n",
       "Mid-Year Projected Population (in Lakhs) (2018)+                                          1.000000   \n",
       "Rate of Total Cyber Crimes (2018)++                                                       0.077051   \n",
       "\n",
       "                                                  Rate of Total Cyber Crimes (2018)++  \n",
       "2016                                                                         0.136820  \n",
       "2017                                                                         0.164416  \n",
       "2018                                                                         0.200750  \n",
       "Percentage Share of State/UT (2018)                                          0.200419  \n",
       "Mid-Year Projected Population (in Lakhs) (2018)+                             0.077051  \n",
       "Rate of Total Cyber Crimes (2018)++                                          1.000000  "
      ]
     },
     "execution_count": 14,
     "metadata": {},
     "output_type": "execute_result"
    }
   ],
   "source": [
    "crime_data.corr()"
   ]
  },
  {
   "cell_type": "code",
   "execution_count": 15,
   "id": "6440ca7c",
   "metadata": {},
   "outputs": [
    {
     "data": {
      "text/html": [
       "<style  type=\"text/css\" >\n",
       "#T_996d7_row0_col0,#T_996d7_row0_col1,#T_996d7_row1_col0,#T_996d7_row1_col1,#T_996d7_row1_col2,#T_996d7_row1_col3,#T_996d7_row2_col1,#T_996d7_row2_col2,#T_996d7_row2_col3,#T_996d7_row3_col1,#T_996d7_row3_col2,#T_996d7_row3_col3,#T_996d7_row4_col4,#T_996d7_row5_col5{\n",
       "            background-color:  #b40426;\n",
       "            color:  #f1f1f1;\n",
       "        }#T_996d7_row0_col2,#T_996d7_row0_col3,#T_996d7_row0_col4,#T_996d7_row2_col0,#T_996d7_row3_col0{\n",
       "            background-color:  #b50927;\n",
       "            color:  #f1f1f1;\n",
       "        }#T_996d7_row0_col5{\n",
       "            background-color:  #4e68d8;\n",
       "            color:  #000000;\n",
       "        }#T_996d7_row1_col4,#T_996d7_row4_col0,#T_996d7_row4_col1{\n",
       "            background-color:  #b70d28;\n",
       "            color:  #f1f1f1;\n",
       "        }#T_996d7_row1_col5{\n",
       "            background-color:  #5875e1;\n",
       "            color:  #000000;\n",
       "        }#T_996d7_row2_col4,#T_996d7_row3_col4{\n",
       "            background-color:  #b8122a;\n",
       "            color:  #f1f1f1;\n",
       "        }#T_996d7_row2_col5,#T_996d7_row3_col5{\n",
       "            background-color:  #6485ec;\n",
       "            color:  #000000;\n",
       "        }#T_996d7_row4_col2,#T_996d7_row4_col3{\n",
       "            background-color:  #ba162b;\n",
       "            color:  #f1f1f1;\n",
       "        }#T_996d7_row4_col5,#T_996d7_row5_col0,#T_996d7_row5_col1,#T_996d7_row5_col2,#T_996d7_row5_col3,#T_996d7_row5_col4{\n",
       "            background-color:  #3b4cc0;\n",
       "            color:  #f1f1f1;\n",
       "        }</style><table id=\"T_996d7_\" ><thead>    <tr>        <th class=\"blank level0\" ></th>        <th class=\"col_heading level0 col0\" >2016</th>        <th class=\"col_heading level0 col1\" >2017</th>        <th class=\"col_heading level0 col2\" >2018</th>        <th class=\"col_heading level0 col3\" >Percentage Share of State/UT (2018)</th>        <th class=\"col_heading level0 col4\" >Mid-Year Projected Population (in Lakhs) (2018)+</th>        <th class=\"col_heading level0 col5\" >Rate of Total Cyber Crimes (2018)++</th>    </tr></thead><tbody>\n",
       "                <tr>\n",
       "                        <th id=\"T_996d7_level0_row0\" class=\"row_heading level0 row0\" >2016</th>\n",
       "                        <td id=\"T_996d7_row0_col0\" class=\"data row0 col0\" >1.000000</td>\n",
       "                        <td id=\"T_996d7_row0_col1\" class=\"data row0 col1\" >0.998590</td>\n",
       "                        <td id=\"T_996d7_row0_col2\" class=\"data row0 col2\" >0.993830</td>\n",
       "                        <td id=\"T_996d7_row0_col3\" class=\"data row0 col3\" >0.993860</td>\n",
       "                        <td id=\"T_996d7_row0_col4\" class=\"data row0 col4\" >0.992970</td>\n",
       "                        <td id=\"T_996d7_row0_col5\" class=\"data row0 col5\" >0.136820</td>\n",
       "            </tr>\n",
       "            <tr>\n",
       "                        <th id=\"T_996d7_level0_row1\" class=\"row_heading level0 row1\" >2017</th>\n",
       "                        <td id=\"T_996d7_row1_col0\" class=\"data row1 col0\" >0.998590</td>\n",
       "                        <td id=\"T_996d7_row1_col1\" class=\"data row1 col1\" >1.000000</td>\n",
       "                        <td id=\"T_996d7_row1_col2\" class=\"data row1 col2\" >0.998014</td>\n",
       "                        <td id=\"T_996d7_row1_col3\" class=\"data row1 col3\" >0.998030</td>\n",
       "                        <td id=\"T_996d7_row1_col4\" class=\"data row1 col4\" >0.991394</td>\n",
       "                        <td id=\"T_996d7_row1_col5\" class=\"data row1 col5\" >0.164416</td>\n",
       "            </tr>\n",
       "            <tr>\n",
       "                        <th id=\"T_996d7_level0_row2\" class=\"row_heading level0 row2\" >2018</th>\n",
       "                        <td id=\"T_996d7_row2_col0\" class=\"data row2 col0\" >0.993830</td>\n",
       "                        <td id=\"T_996d7_row2_col1\" class=\"data row2 col1\" >0.998014</td>\n",
       "                        <td id=\"T_996d7_row2_col2\" class=\"data row2 col2\" >1.000000</td>\n",
       "                        <td id=\"T_996d7_row2_col3\" class=\"data row2 col3\" >0.999999</td>\n",
       "                        <td id=\"T_996d7_row2_col4\" class=\"data row2 col4\" >0.986735</td>\n",
       "                        <td id=\"T_996d7_row2_col5\" class=\"data row2 col5\" >0.200750</td>\n",
       "            </tr>\n",
       "            <tr>\n",
       "                        <th id=\"T_996d7_level0_row3\" class=\"row_heading level0 row3\" >Percentage Share of State/UT (2018)</th>\n",
       "                        <td id=\"T_996d7_row3_col0\" class=\"data row3 col0\" >0.993860</td>\n",
       "                        <td id=\"T_996d7_row3_col1\" class=\"data row3 col1\" >0.998030</td>\n",
       "                        <td id=\"T_996d7_row3_col2\" class=\"data row3 col2\" >0.999999</td>\n",
       "                        <td id=\"T_996d7_row3_col3\" class=\"data row3 col3\" >1.000000</td>\n",
       "                        <td id=\"T_996d7_row3_col4\" class=\"data row3 col4\" >0.986789</td>\n",
       "                        <td id=\"T_996d7_row3_col5\" class=\"data row3 col5\" >0.200419</td>\n",
       "            </tr>\n",
       "            <tr>\n",
       "                        <th id=\"T_996d7_level0_row4\" class=\"row_heading level0 row4\" >Mid-Year Projected Population (in Lakhs) (2018)+</th>\n",
       "                        <td id=\"T_996d7_row4_col0\" class=\"data row4 col0\" >0.992970</td>\n",
       "                        <td id=\"T_996d7_row4_col1\" class=\"data row4 col1\" >0.991394</td>\n",
       "                        <td id=\"T_996d7_row4_col2\" class=\"data row4 col2\" >0.986735</td>\n",
       "                        <td id=\"T_996d7_row4_col3\" class=\"data row4 col3\" >0.986789</td>\n",
       "                        <td id=\"T_996d7_row4_col4\" class=\"data row4 col4\" >1.000000</td>\n",
       "                        <td id=\"T_996d7_row4_col5\" class=\"data row4 col5\" >0.077051</td>\n",
       "            </tr>\n",
       "            <tr>\n",
       "                        <th id=\"T_996d7_level0_row5\" class=\"row_heading level0 row5\" >Rate of Total Cyber Crimes (2018)++</th>\n",
       "                        <td id=\"T_996d7_row5_col0\" class=\"data row5 col0\" >0.136820</td>\n",
       "                        <td id=\"T_996d7_row5_col1\" class=\"data row5 col1\" >0.164416</td>\n",
       "                        <td id=\"T_996d7_row5_col2\" class=\"data row5 col2\" >0.200750</td>\n",
       "                        <td id=\"T_996d7_row5_col3\" class=\"data row5 col3\" >0.200419</td>\n",
       "                        <td id=\"T_996d7_row5_col4\" class=\"data row5 col4\" >0.077051</td>\n",
       "                        <td id=\"T_996d7_row5_col5\" class=\"data row5 col5\" >1.000000</td>\n",
       "            </tr>\n",
       "    </tbody></table>"
      ],
      "text/plain": [
       "<pandas.io.formats.style.Styler at 0x1f7cad546d0>"
      ]
     },
     "execution_count": 15,
     "metadata": {},
     "output_type": "execute_result"
    }
   ],
   "source": [
    "crime_data.corr().style.background_gradient(cmap = 'coolwarm')"
   ]
  },
  {
   "cell_type": "code",
   "execution_count": 16,
   "id": "0ceaddf3",
   "metadata": {},
   "outputs": [
    {
     "data": {
      "image/png": "[encoded data removed]",
      "text/plain": [
       "<Figure size 1080x432 with 2 Axes>"
      ]
     },
     "metadata": {
      "needs_background": "light"
     },
     "output_type": "display_data"
    }
   ],
   "source": [
    "plt.figure(figsize=(15,6))\n",
    "sns.heatmap(crime_data.corr())\n",
    "plt.show()"
   ]
  },
  {
   "cell_type": "code",
   "execution_count": 17,
   "id": "1748464c",
   "metadata": {},
   "outputs": [],
   "source": [
    "crime_data = crime_data.drop(labels=[29], axis=0)"
   ]
  },
  {
   "cell_type": "code",
   "execution_count": 18,
   "id": "a8e0ecf5",
   "metadata": {},
   "outputs": [],
   "source": [
    "crime_data = crime_data.drop(labels=[33,34], axis=0)"
   ]
  },
  {
   "cell_type": "code",
   "execution_count": 19,
   "id": "369132dd",
   "metadata": {},
   "outputs": [
    {
     "data": {
      "image/png": "[encoded data removed]",
      "text/plain": [
       "<Figure size 1080x432 with 1 Axes>"
      ]
     },
     "metadata": {
      "needs_background": "light"
     },
     "output_type": "display_data"
    }
   ],
   "source": [
    "plt.figure(figsize=(15,6))\n",
    "sns.barplot(x = 'Category' , y = '2016' , data = crime_data, palette='hls')\n",
    "plt.xticks(rotation = 90)\n",
    "plt.show()"
   ]
  },
  {
   "cell_type": "code",
   "execution_count": 20,
   "id": "8afda5bf",
   "metadata": {},
   "outputs": [
    {
     "data": {
      "image/png": "[encoded data removed]",
      "text/plain": [
       "<Figure size 1080x432 with 1 Axes>"
      ]
     },
     "metadata": {
      "needs_background": "light"
     },
     "output_type": "display_data"
    }
   ],
   "source": [
    "plt.figure(figsize=(15,6))\n",
    "sns.barplot(x = 'State/UT' ,y = '2016', data = crime_data, palette='hls')\n",
    "plt.xticks(rotation = 90)\n",
    "plt.show()"
   ]
  },
  {
   "cell_type": "code",
   "execution_count": 21,
   "id": "fc009ef3",
   "metadata": {},
   "outputs": [
    {
     "data": {
      "image/png": "[encoded data removed]",
      "text/plain": [
       "<Figure size 1080x432 with 1 Axes>"
      ]
     },
     "metadata": {
      "needs_background": "light"
     },
     "output_type": "display_data"
    }
   ],
   "source": [
    "plt.figure(figsize=(15,6))\n",
    "sns.barplot(x = 'Category' , y = '2017' , data = crime_data, palette='hls')\n",
    "plt.xticks(rotation = 90)\n",
    "plt.show()\n"
   ]
  },
  {
   "cell_type": "code",
   "execution_count": 22,
   "id": "4ee94f22",
   "metadata": {},
   "outputs": [
    {
     "data": {
      "image/png": "[encoded data removed]",
      "text/plain": [
       "<Figure size 1080x432 with 1 Axes>"
      ]
     },
     "metadata": {
      "needs_background": "light"
     },
     "output_type": "display_data"
    }
   ],
   "source": [
    "plt.figure(figsize=(15,6))\n",
    "sns.barplot(x = 'State/UT' ,y = '2017', data = crime_data, palette='hls')\n",
    "plt.xticks(rotation = 90)\n",
    "plt.show()"
   ]
  },
  {
   "cell_type": "code",
   "execution_count": 23,
   "id": "b9fafd84",
   "metadata": {},
   "outputs": [
    {
     "data": {
      "image/png": "[encoded data removed]",
      "text/plain": [
       "<Figure size 1080x432 with 1 Axes>"
      ]
     },
     "metadata": {
      "needs_background": "light"
     },
     "output_type": "display_data"
    }
   ],
   "source": [
    "plt.figure(figsize=(15,6))\n",
    "sns.barplot(x = 'Category' , y = '2018' , data = crime_data, palette='hls')\n",
    "plt.xticks(rotation = 90)\n",
    "plt.show()"
   ]
  },
  {
   "cell_type": "code",
   "execution_count": 24,
   "id": "cfe558b1",
   "metadata": {},
   "outputs": [
    {
     "data": {
      "image/png": "[encoded data removed]",
      "text/plain": [
       "<Figure size 1080x432 with 1 Axes>"
      ]
     },
     "metadata": {
      "needs_background": "light"
     },
     "output_type": "display_data"
    }
   ],
   "source": [
    "plt.figure(figsize=(15,6))\n",
    "sns.barplot(x = 'State/UT' ,y = '2018', data = crime_data, palette='hls')\n",
    "plt.xticks(rotation = 90)\n",
    "plt.show()"
   ]
  },
  {
   "cell_type": "code",
   "execution_count": 25,
   "id": "dbd6e6af",
   "metadata": {},
   "outputs": [],
   "source": [
    "Columns = crime_data.rename(columns={'Percentage Share of State/UT (2018)':'Percentage_share',\n",
    "'Mid-Year Projected Population (in Lakhs) (2018)+':'Projected_population',\n",
    "'Rate of Total Cyber Crimes (2018)++': 'Rate_cyber_crime_2018'}, inplace = True)"
   ]
  },
  {
   "cell_type": "code",
   "execution_count": 26,
   "id": "5e805536",
   "metadata": {},
   "outputs": [
    {
     "data": {
      "text/html": [
       "<div>\n",
       "<style scoped>\n",
       "    .dataframe tbody tr th:only-of-type {\n",
       "        vertical-align: middle;\n",
       "    }\n",
       "\n",
       "    .dataframe tbody tr th {\n",
       "        vertical-align: top;\n",
       "    }\n",
       "\n",
       "    .dataframe thead th {\n",
       "        text-align: right;\n",
       "    }\n",
       "</style>\n",
       "<table border=\"1\" class=\"dataframe\">\n",
       "  <thead>\n",
       "    <tr style=\"text-align: right;\">\n",
       "      <th></th>\n",
       "      <th>S. No</th>\n",
       "      <th>Category</th>\n",
       "      <th>State/UT</th>\n",
       "      <th>2016</th>\n",
       "      <th>2017</th>\n",
       "      <th>2018</th>\n",
       "      <th>Percentage_share</th>\n",
       "      <th>Projected_population</th>\n",
       "      <th>Rate_cyber_crime_2018</th>\n",
       "    </tr>\n",
       "  </thead>\n",
       "  <tbody>\n",
       "    <tr>\n",
       "      <th>0</th>\n",
       "      <td>1</td>\n",
       "      <td>State</td>\n",
       "      <td>Andhra Pradesh</td>\n",
       "      <td>616</td>\n",
       "      <td>931</td>\n",
       "      <td>1207</td>\n",
       "      <td>4.4</td>\n",
       "      <td>520.3</td>\n",
       "      <td>2.3</td>\n",
       "    </tr>\n",
       "    <tr>\n",
       "      <th>1</th>\n",
       "      <td>2</td>\n",
       "      <td>State</td>\n",
       "      <td>Arunachal Pradesh</td>\n",
       "      <td>4</td>\n",
       "      <td>1</td>\n",
       "      <td>7</td>\n",
       "      <td>0.0</td>\n",
       "      <td>14.9</td>\n",
       "      <td>0.5</td>\n",
       "    </tr>\n",
       "    <tr>\n",
       "      <th>2</th>\n",
       "      <td>3</td>\n",
       "      <td>State</td>\n",
       "      <td>Assam</td>\n",
       "      <td>696</td>\n",
       "      <td>1120</td>\n",
       "      <td>2022</td>\n",
       "      <td>7.4</td>\n",
       "      <td>340.4</td>\n",
       "      <td>5.9</td>\n",
       "    </tr>\n",
       "    <tr>\n",
       "      <th>3</th>\n",
       "      <td>4</td>\n",
       "      <td>State</td>\n",
       "      <td>Bihar</td>\n",
       "      <td>309</td>\n",
       "      <td>433</td>\n",
       "      <td>374</td>\n",
       "      <td>1.4</td>\n",
       "      <td>1183.3</td>\n",
       "      <td>0.3</td>\n",
       "    </tr>\n",
       "    <tr>\n",
       "      <th>4</th>\n",
       "      <td>5</td>\n",
       "      <td>State</td>\n",
       "      <td>Chhattisgarh</td>\n",
       "      <td>90</td>\n",
       "      <td>171</td>\n",
       "      <td>139</td>\n",
       "      <td>0.5</td>\n",
       "      <td>284.7</td>\n",
       "      <td>0.5</td>\n",
       "    </tr>\n",
       "  </tbody>\n",
       "</table>\n",
       "</div>"
      ],
      "text/plain": [
       "  S. No Category           State/UT  2016  2017  2018  Percentage_share  \\\n",
       "0     1    State     Andhra Pradesh   616   931  1207               4.4   \n",
       "1     2    State  Arunachal Pradesh     4     1     7               0.0   \n",
       "2     3    State              Assam   696  1120  2022               7.4   \n",
       "3     4    State              Bihar   309   433   374               1.4   \n",
       "4     5    State       Chhattisgarh    90   171   139               0.5   \n",
       "\n",
       "   Projected_population  Rate_cyber_crime_2018  \n",
       "0                 520.3                    2.3  \n",
       "1                  14.9                    0.5  \n",
       "2                 340.4                    5.9  \n",
       "3                1183.3                    0.3  \n",
       "4                 284.7                    0.5  "
      ]
     },
     "execution_count": 26,
     "metadata": {},
     "output_type": "execute_result"
    }
   ],
   "source": [
    "crime_data.head()"
   ]
  },
  {
   "cell_type": "code",
   "execution_count": 27,
   "id": "94a90e87",
   "metadata": {},
   "outputs": [
    {
     "data": {
      "image/png": "[encoded data removed]",
      "text/plain": [
       "<Figure size 1080x432 with 1 Axes>"
      ]
     },
     "metadata": {
      "needs_background": "light"
     },
     "output_type": "display_data"
    }
   ],
   "source": [
    "#percentage share for 2018\n",
    "plt.figure(figsize=(15,6))\n",
    "sns.barplot(x = 'Category', y = 'Percentage_share', data = crime_data,\n",
    "           palette='hls')\n",
    "plt.xticks(rotation = 90)\n",
    "plt.show()"
   ]
  },
  {
   "cell_type": "code",
   "execution_count": 28,
   "id": "f671e666",
   "metadata": {},
   "outputs": [
    {
     "data": {
      "image/png": "[encoded data removed]",
      "text/plain": [
       "<Figure size 1080x432 with 1 Axes>"
      ]
     },
     "metadata": {
      "needs_background": "light"
     },
     "output_type": "display_data"
    }
   ],
   "source": [
    "#percentage share for 2018\n",
    "plt.figure(figsize=(15,6))\n",
    "sns.barplot(x = 'State/UT', y = 'Percentage_share', data = crime_data,\n",
    "           palette='hls')\n",
    "plt.xticks(rotation = 90)\n",
    "plt.show()"
   ]
  },
  {
   "cell_type": "code",
   "execution_count": 29,
   "id": "9c4ab20f",
   "metadata": {},
   "outputs": [
    {
     "data": {
      "image/png": "[encoded data removed]",
      "text/plain": [
       "<Figure size 1080x432 with 1 Axes>"
      ]
     },
     "metadata": {
      "needs_background": "light"
     },
     "output_type": "display_data"
    }
   ],
   "source": [
    "#percentage share for 2018\n",
    "plt.figure(figsize=(15,6))\n",
    "sns.barplot(x = 'Category', y = 'Projected_population', data = crime_data,\n",
    "           palette='hls')\n",
    "plt.xticks(rotation = 90)\n",
    "plt.show()"
   ]
  },
  {
   "cell_type": "code",
   "execution_count": 30,
   "id": "48a736a5",
   "metadata": {},
   "outputs": [
    {
     "data": {
      "image/png": "[encoded data removed]",
      "text/plain": [
       "<Figure size 1080x432 with 1 Axes>"
      ]
     },
     "metadata": {
      "needs_background": "light"
     },
     "output_type": "display_data"
    }
   ],
   "source": [
    "#percentage share for 2018\n",
    "plt.figure(figsize=(15,6))\n",
    "sns.barplot(x = 'Category', y = 'Rate_cyber_crime_2018', data = crime_data,\n",
    "           palette='hls')\n",
    "plt.xticks(rotation = 90)\n",
    "plt.show()"
   ]
  },
  {
   "cell_type": "code",
   "execution_count": 31,
   "id": "fa2e69eb",
   "metadata": {},
   "outputs": [
    {
     "data": {
      "image/png": "[encoded data removed]",
      "text/plain": [
       "<Figure size 1080x432 with 1 Axes>"
      ]
     },
     "metadata": {
      "needs_background": "light"
     },
     "output_type": "display_data"
    }
   ],
   "source": [
    "#percentage share for 2018\n",
    "plt.figure(figsize=(15,6))\n",
    "sns.barplot(x = 'State/UT', y = 'Rate_cyber_crime_2018', data = crime_data,\n",
    "           palette='hls')\n",
    "plt.xticks(rotation = 90)\n",
    "plt.show()"
   ]
  },
  {
   "cell_type": "code",
   "execution_count": 32,
   "id": "a2f98ee0",
   "metadata": {},
   "outputs": [],
   "source": [
    "crime_data['Total'] = crime_data['2016'] + crime_data['2017'] + crime_data['2018']"
   ]
  },
  {
   "cell_type": "code",
   "execution_count": 33,
   "id": "2a04188c",
   "metadata": {},
   "outputs": [],
   "source": [
    "crime_data_new = crime_data[['2016', '2017', '2018']]"
   ]
  },
  {
   "cell_type": "code",
   "execution_count": 34,
   "id": "c01c6cec",
   "metadata": {},
   "outputs": [
    {
     "data": {
      "text/html": [
       "<div>\n",
       "<style scoped>\n",
       "    .dataframe tbody tr th:only-of-type {\n",
       "        vertical-align: middle;\n",
       "    }\n",
       "\n",
       "    .dataframe tbody tr th {\n",
       "        vertical-align: top;\n",
       "    }\n",
       "\n",
       "    .dataframe thead th {\n",
       "        text-align: right;\n",
       "    }\n",
       "</style>\n",
       "<table border=\"1\" class=\"dataframe\">\n",
       "  <thead>\n",
       "    <tr style=\"text-align: right;\">\n",
       "      <th></th>\n",
       "      <th>2016</th>\n",
       "      <th>2017</th>\n",
       "      <th>2018</th>\n",
       "    </tr>\n",
       "  </thead>\n",
       "  <tbody>\n",
       "    <tr>\n",
       "      <th>0</th>\n",
       "      <td>616</td>\n",
       "      <td>931</td>\n",
       "      <td>1207</td>\n",
       "    </tr>\n",
       "    <tr>\n",
       "      <th>1</th>\n",
       "      <td>4</td>\n",
       "      <td>1</td>\n",
       "      <td>7</td>\n",
       "    </tr>\n",
       "    <tr>\n",
       "      <th>2</th>\n",
       "      <td>696</td>\n",
       "      <td>1120</td>\n",
       "      <td>2022</td>\n",
       "    </tr>\n",
       "    <tr>\n",
       "      <th>3</th>\n",
       "      <td>309</td>\n",
       "      <td>433</td>\n",
       "      <td>374</td>\n",
       "    </tr>\n",
       "    <tr>\n",
       "      <th>4</th>\n",
       "      <td>90</td>\n",
       "      <td>171</td>\n",
       "      <td>139</td>\n",
       "    </tr>\n",
       "  </tbody>\n",
       "</table>\n",
       "</div>"
      ],
      "text/plain": [
       "   2016  2017  2018\n",
       "0   616   931  1207\n",
       "1     4     1     7\n",
       "2   696  1120  2022\n",
       "3   309   433   374\n",
       "4    90   171   139"
      ]
     },
     "execution_count": 34,
     "metadata": {},
     "output_type": "execute_result"
    }
   ],
   "source": [
    "crime_data_new.head()"
   ]
  },
  {
   "cell_type": "code",
   "execution_count": 35,
   "id": "1f84e671",
   "metadata": {},
   "outputs": [],
   "source": [
    "crime_data_new = crime_data_new.transpose()"
   ]
  },
  {
   "cell_type": "code",
   "execution_count": 36,
   "id": "cf566e96",
   "metadata": {},
   "outputs": [
    {
     "data": {
      "text/html": [
       "<div>\n",
       "<style scoped>\n",
       "    .dataframe tbody tr th:only-of-type {\n",
       "        vertical-align: middle;\n",
       "    }\n",
       "\n",
       "    .dataframe tbody tr th {\n",
       "        vertical-align: top;\n",
       "    }\n",
       "\n",
       "    .dataframe thead th {\n",
       "        text-align: right;\n",
       "    }\n",
       "</style>\n",
       "<table border=\"1\" class=\"dataframe\">\n",
       "  <thead>\n",
       "    <tr style=\"text-align: right;\">\n",
       "      <th></th>\n",
       "      <th>0</th>\n",
       "      <th>1</th>\n",
       "      <th>2</th>\n",
       "      <th>3</th>\n",
       "      <th>4</th>\n",
       "      <th>5</th>\n",
       "      <th>6</th>\n",
       "      <th>7</th>\n",
       "      <th>8</th>\n",
       "      <th>9</th>\n",
       "      <th>...</th>\n",
       "      <th>26</th>\n",
       "      <th>27</th>\n",
       "      <th>28</th>\n",
       "      <th>30</th>\n",
       "      <th>31</th>\n",
       "      <th>32</th>\n",
       "      <th>35</th>\n",
       "      <th>36</th>\n",
       "      <th>37</th>\n",
       "      <th>38</th>\n",
       "    </tr>\n",
       "  </thead>\n",
       "  <tbody>\n",
       "    <tr>\n",
       "      <th>2016</th>\n",
       "      <td>616</td>\n",
       "      <td>4</td>\n",
       "      <td>696</td>\n",
       "      <td>309</td>\n",
       "      <td>90</td>\n",
       "      <td>31</td>\n",
       "      <td>362</td>\n",
       "      <td>401</td>\n",
       "      <td>31</td>\n",
       "      <td>28</td>\n",
       "      <td>...</td>\n",
       "      <td>2639</td>\n",
       "      <td>62</td>\n",
       "      <td>478</td>\n",
       "      <td>3</td>\n",
       "      <td>26</td>\n",
       "      <td>1</td>\n",
       "      <td>0</td>\n",
       "      <td>2</td>\n",
       "      <td>130</td>\n",
       "      <td>12317</td>\n",
       "    </tr>\n",
       "    <tr>\n",
       "      <th>2017</th>\n",
       "      <td>931</td>\n",
       "      <td>1</td>\n",
       "      <td>1120</td>\n",
       "      <td>433</td>\n",
       "      <td>171</td>\n",
       "      <td>13</td>\n",
       "      <td>458</td>\n",
       "      <td>504</td>\n",
       "      <td>56</td>\n",
       "      <td>63</td>\n",
       "      <td>...</td>\n",
       "      <td>4971</td>\n",
       "      <td>124</td>\n",
       "      <td>568</td>\n",
       "      <td>3</td>\n",
       "      <td>32</td>\n",
       "      <td>1</td>\n",
       "      <td>0</td>\n",
       "      <td>5</td>\n",
       "      <td>203</td>\n",
       "      <td>21796</td>\n",
       "    </tr>\n",
       "    <tr>\n",
       "      <th>2018</th>\n",
       "      <td>1207</td>\n",
       "      <td>7</td>\n",
       "      <td>2022</td>\n",
       "      <td>374</td>\n",
       "      <td>139</td>\n",
       "      <td>29</td>\n",
       "      <td>702</td>\n",
       "      <td>418</td>\n",
       "      <td>69</td>\n",
       "      <td>73</td>\n",
       "      <td>...</td>\n",
       "      <td>6280</td>\n",
       "      <td>171</td>\n",
       "      <td>335</td>\n",
       "      <td>7</td>\n",
       "      <td>30</td>\n",
       "      <td>0</td>\n",
       "      <td>4</td>\n",
       "      <td>14</td>\n",
       "      <td>244</td>\n",
       "      <td>27248</td>\n",
       "    </tr>\n",
       "  </tbody>\n",
       "</table>\n",
       "<p>3 rows × 36 columns</p>\n",
       "</div>"
      ],
      "text/plain": [
       "        0   1     2    3    4   5    6    7   8   9   ...    26   27   28  30  \\\n",
       "2016   616   4   696  309   90  31  362  401  31  28  ...  2639   62  478   3   \n",
       "2017   931   1  1120  433  171  13  458  504  56  63  ...  4971  124  568   3   \n",
       "2018  1207   7  2022  374  139  29  702  418  69  73  ...  6280  171  335   7   \n",
       "\n",
       "      31  32  35  36   37     38  \n",
       "2016  26   1   0   2  130  12317  \n",
       "2017  32   1   0   5  203  21796  \n",
       "2018  30   0   4  14  244  27248  \n",
       "\n",
       "[3 rows x 36 columns]"
      ]
     },
     "execution_count": 36,
     "metadata": {},
     "output_type": "execute_result"
    }
   ],
   "source": [
    "crime_data_new.head()"
   ]
  },
  {
   "cell_type": "code",
   "execution_count": 37,
   "id": "fc70a69e",
   "metadata": {},
   "outputs": [],
   "source": [
    "crime_data_new = crime_data_new.reset_index()"
   ]
  },
  {
   "cell_type": "code",
   "execution_count": 38,
   "id": "3dc07e28",
   "metadata": {},
   "outputs": [],
   "source": [
    "crime_data_new = crime_data_new.rename(columns = {'index':'year'})"
   ]
  },
  {
   "cell_type": "code",
   "execution_count": 39,
   "id": "573908b3",
   "metadata": {},
   "outputs": [
    {
     "data": {
      "text/plain": [
       "Index(['year',      0,      1,      2,      3,      4,      5,      6,      7,\n",
       "            8,      9,     10,     11,     12,     13,     14,     15,     16,\n",
       "           17,     18,     19,     20,     21,     22,     23,     24,     25,\n",
       "           26,     27,     28,     30,     31,     32,     35,     36,     37,\n",
       "           38],\n",
       "      dtype='object')"
      ]
     },
     "execution_count": 39,
     "metadata": {},
     "output_type": "execute_result"
    }
   ],
   "source": [
    "crime_data_new.columns"
   ]
  },
  {
   "cell_type": "code",
   "execution_count": 40,
   "id": "e3f7f9d0",
   "metadata": {},
   "outputs": [],
   "source": [
    "cols = [0, 1, 2, 3, 4, 5, 6, 7, 8, 9,\n",
    "10, 11, 12, 13, 14, 15, 16, 17, 18,\n",
    "19, 20, 21, 22, 23, 24, 25,\n",
    "26, 27, 28, 30, 31, 32]"
   ]
  },
  {
   "cell_type": "code",
   "execution_count": 41,
   "id": "a0451b2d",
   "metadata": {},
   "outputs": [],
   "source": [
    "crime_data_new['total'] = crime_data_new[cols].sum(axis=1)"
   ]
  },
  {
   "cell_type": "code",
   "execution_count": 42,
   "id": "eab9f231",
   "metadata": {},
   "outputs": [
    {
     "data": {
      "image/png": "[encoded data removed]",
      "text/plain": [
       "<Figure size 1080x432 with 1 Axes>"
      ]
     },
     "metadata": {
      "needs_background": "light"
     },
     "output_type": "display_data"
    }
   ],
   "source": [
    "plt.figure(figsize=(15,6))\n",
    "sns.lineplot(x = 'year', y = 'total', data = crime_data_new,\n",
    "palette='hls')\n",
    "plt.xticks(rotation = 90)\n",
    "plt.show()"
   ]
  },
  {
   "cell_type": "code",
   "execution_count": 43,
   "id": "32d119f8",
   "metadata": {},
   "outputs": [
    {
     "data": {
      "image/png": "[encoded data removed]",
      "text/plain": [
       "<Figure size 1080x432 with 1 Axes>"
      ]
     },
     "metadata": {
      "needs_background": "light"
     },
     "output_type": "display_data"
    }
   ],
   "source": [
    "plt.figure(figsize=(15,6))\n",
    "sns.barplot(x = 'year', y = 'total', data = crime_data_new,\n",
    "palette='hls')\n",
    "plt.xticks(rotation = 90)\n",
    "plt.show()"
   ]
  },
  {
   "cell_type": "code",
   "execution_count": 44,
   "id": "6a09b73a",
   "metadata": {},
   "outputs": [
    {
     "data": {
      "text/plain": [
       "Index(['S. No', 'Category', 'State/UT', '2016', '2017', '2018',\n",
       "       'Percentage_share', 'Projected_population', 'Rate_cyber_crime_2018',\n",
       "       'Total'],\n",
       "      dtype='object')"
      ]
     },
     "execution_count": 44,
     "metadata": {},
     "output_type": "execute_result"
    }
   ],
   "source": [
    "crime_data.columns"
   ]
  },
  {
   "cell_type": "code",
   "execution_count": 45,
   "id": "cb716c11",
   "metadata": {},
   "outputs": [],
   "source": [
    "x = crime_data.drop(['S. No', 'Category', 'State/UT','Percentage_share',\n",
    "'Projected_population', 'Rate_cyber_crime_2018',\n",
    "'Total'], axis = 1)\n",
    "y = crime_data['Total']"
   ]
  },
  {
   "cell_type": "code",
   "execution_count": 46,
   "id": "522b3b91",
   "metadata": {},
   "outputs": [
    {
     "data": {
      "text/plain": [
       "(36, 3)"
      ]
     },
     "execution_count": 46,
     "metadata": {},
     "output_type": "execute_result"
    }
   ],
   "source": [
    "x.shape"
   ]
  },
  {
   "cell_type": "code",
   "execution_count": 47,
   "id": "74368d29",
   "metadata": {},
   "outputs": [
    {
     "data": {
      "text/plain": [
       "(36,)"
      ]
     },
     "execution_count": 47,
     "metadata": {},
     "output_type": "execute_result"
    }
   ],
   "source": [
    "y.shape"
   ]
  },
  {
   "cell_type": "code",
   "execution_count": 48,
   "id": "06e1a602",
   "metadata": {},
   "outputs": [],
   "source": [
    "from sklearn.model_selection import train_test_split\n",
    "X_train, X_test, y_train, y_test = train_test_split(x, y, test_size = 0.2)"
   ]
  },
  {
   "cell_type": "code",
   "execution_count": 49,
   "id": "d913edba",
   "metadata": {},
   "outputs": [],
   "source": [
    "from sklearn.tree import DecisionTreeRegressor"
   ]
  },
  {
   "cell_type": "code",
   "execution_count": 50,
   "id": "ee6d2e14",
   "metadata": {},
   "outputs": [
    {
     "data": {
      "text/plain": [
       "DecisionTreeRegressor(max_depth=6)"
      ]
     },
     "execution_count": 50,
     "metadata": {},
     "output_type": "execute_result"
    }
   ],
   "source": [
    "regressor = DecisionTreeRegressor(max_depth=6)\n",
    "regressor.fit(X_train, y_train)"
   ]
  },
  {
   "cell_type": "code",
   "execution_count": 51,
   "id": "412339eb",
   "metadata": {},
   "outputs": [
    {
     "name": "stdout",
     "output_type": "stream",
     "text": [
      "Training Accuracy : 0.999991346783693\n",
      "Testing Accuracy : 0.403098350257731\n"
     ]
    }
   ],
   "source": [
    "print(\"Training Accuracy :\", regressor.score(X_train, y_train))\n",
    "print(\"Testing Accuracy :\", regressor.score(X_test, y_test))"
   ]
  },
  {
   "cell_type": "code",
   "execution_count": 52,
   "id": "ac08a764",
   "metadata": {},
   "outputs": [],
   "source": [
    "from sklearn.ensemble import RandomForestRegressor"
   ]
  },
  {
   "cell_type": "code",
   "execution_count": 53,
   "id": "f6250606",
   "metadata": {},
   "outputs": [
    {
     "data": {
      "text/plain": [
       "RandomForestRegressor(random_state=0)"
      ]
     },
     "execution_count": 53,
     "metadata": {},
     "output_type": "execute_result"
    }
   ],
   "source": [
    "rf_regressor = RandomForestRegressor(n_estimators = 100, random_state = 0)\n",
    "rf_regressor.fit(X_train, y_train)"
   ]
  },
  {
   "cell_type": "code",
   "execution_count": 54,
   "id": "998b6a24",
   "metadata": {},
   "outputs": [
    {
     "name": "stdout",
     "output_type": "stream",
     "text": [
      "Training Accuracy : 0.9283418145676363\n",
      "Testing Accuracy : 0.8477525501652596\n"
     ]
    }
   ],
   "source": [
    "print(\"Training Accuracy :\", rf_regressor.score(X_train, y_train))\n",
    "print(\"Testing Accuracy :\", rf_regressor.score(X_test, y_test))"
   ]
  },
  {
   "cell_type": "code",
   "execution_count": 55,
   "id": "cb9fedc0",
   "metadata": {},
   "outputs": [
    {
     "name": "stdout",
     "output_type": "stream",
     "text": [
      "Requirement already satisfied: nbconvert in c:\\users\\shams\\anaconda3\\lib\\site-packages (6.0.7)\n",
      "Requirement already satisfied: traitlets>=4.2 in c:\\users\\shams\\anaconda3\\lib\\site-packages (from nbconvert) (5.0.5)\n",
      "Requirement already satisfied: nbformat>=4.4 in c:\\users\\shams\\anaconda3\\lib\\site-packages (from nbconvert) (5.1.3)\n",
      "Requirement already satisfied: nbclient<0.6.0,>=0.5.0 in c:\\users\\shams\\anaconda3\\lib\\site-packages (from nbconvert) (0.5.3)\n",
      "Requirement already satisfied: bleach in c:\\users\\shams\\anaconda3\\lib\\site-packages (from nbconvert) (3.3.0)\n",
      "Requirement already satisfied: jupyterlab-pygments in c:\\users\\shams\\anaconda3\\lib\\site-packages (from nbconvert) (0.1.2)\n",
      "Requirement already satisfied: testpath in c:\\users\\shams\\anaconda3\\lib\\site-packages (from nbconvert) (0.4.4)\n",
      "Requirement already satisfied: jupyter-core in c:\\users\\shams\\anaconda3\\lib\\site-packages (from nbconvert) (4.7.1)\n",
      "Requirement already satisfied: pandocfilters>=1.4.1 in c:\\users\\shams\\anaconda3\\lib\\site-packages (from nbconvert) (1.4.3)\n",
      "Requirement already satisfied: jinja2>=2.4 in c:\\users\\shams\\anaconda3\\lib\\site-packages (from nbconvert) (2.11.3)\n",
      "Requirement already satisfied: entrypoints>=0.2.2 in c:\\users\\shams\\anaconda3\\lib\\site-packages (from nbconvert) (0.3)\n",
      "Requirement already satisfied: mistune<2,>=0.8.1 in c:\\users\\shams\\anaconda3\\lib\\site-packages (from nbconvert) (0.8.4)\n",
      "Requirement already satisfied: pygments>=2.4.1 in c:\\users\\shams\\anaconda3\\lib\\site-packages (from nbconvert) (2.8.1)\n",
      "Requirement already satisfied: defusedxml in c:\\users\\shams\\anaconda3\\lib\\site-packages (from nbconvert) (0.7.1)\n",
      "Requirement already satisfied: MarkupSafe>=0.23 in c:\\users\\shams\\anaconda3\\lib\\site-packages (from jinja2>=2.4->nbconvert) (1.1.1)\n",
      "Requirement already satisfied: async-generator in c:\\users\\shams\\anaconda3\\lib\\site-packages (from nbclient<0.6.0,>=0.5.0->nbconvert) (1.10)\n",
      "Requirement already satisfied: nest-asyncio in c:\\users\\shams\\anaconda3\\lib\\site-packages (from nbclient<0.6.0,>=0.5.0->nbconvert) (1.5.1)\n",
      "Requirement already satisfied: jupyter-client>=6.1.5 in c:\\users\\shams\\anaconda3\\lib\\site-packages (from nbclient<0.6.0,>=0.5.0->nbconvert) (6.1.12)\n",
      "Requirement already satisfied: pyzmq>=13 in c:\\users\\shams\\anaconda3\\lib\\site-packages (from jupyter-client>=6.1.5->nbclient<0.6.0,>=0.5.0->nbconvert) (20.0.0)\n",
      "Requirement already satisfied: tornado>=4.1 in c:\\users\\shams\\anaconda3\\lib\\site-packages (from jupyter-client>=6.1.5->nbclient<0.6.0,>=0.5.0->nbconvert) (6.1)\n",
      "Requirement already satisfied: python-dateutil>=2.1 in c:\\users\\shams\\anaconda3\\lib\\site-packages (from jupyter-client>=6.1.5->nbclient<0.6.0,>=0.5.0->nbconvert) (2.8.1)\n",
      "Requirement already satisfied: pywin32>=1.0 in c:\\users\\shams\\anaconda3\\lib\\site-packages (from jupyter-core->nbconvert) (227)\n",
      "Requirement already satisfied: ipython-genutils in c:\\users\\shams\\anaconda3\\lib\\site-packages (from nbformat>=4.4->nbconvert) (0.2.0)\n",
      "Requirement already satisfied: jsonschema!=2.5.0,>=2.4 in c:\\users\\shams\\anaconda3\\lib\\site-packages (from nbformat>=4.4->nbconvert) (3.2.0)\n",
      "Requirement already satisfied: six>=1.11.0 in c:\\users\\shams\\anaconda3\\lib\\site-packages (from jsonschema!=2.5.0,>=2.4->nbformat>=4.4->nbconvert) (1.15.0)\n",
      "Requirement already satisfied: attrs>=17.4.0 in c:\\users\\shams\\anaconda3\\lib\\site-packages (from jsonschema!=2.5.0,>=2.4->nbformat>=4.4->nbconvert) (20.3.0)\n",
      "Requirement already satisfied: setuptools in c:\\users\\shams\\anaconda3\\lib\\site-packages (from jsonschema!=2.5.0,>=2.4->nbformat>=4.4->nbconvert) (52.0.0.post20210125)\n",
      "Requirement already satisfied: pyrsistent>=0.14.0 in c:\\users\\shams\\anaconda3\\lib\\site-packages (from jsonschema!=2.5.0,>=2.4->nbformat>=4.4->nbconvert) (0.17.3)\n",
      "Requirement already satisfied: webencodings in c:\\users\\shams\\anaconda3\\lib\\site-packages (from bleach->nbconvert) (0.5.1)\n",
      "Requirement already satisfied: packaging in c:\\users\\shams\\anaconda3\\lib\\site-packages (from bleach->nbconvert) (20.9)\n",
      "Requirement already satisfied: pyparsing>=2.0.2 in c:\\users\\shams\\anaconda3\\lib\\site-packages (from packaging->bleach->nbconvert) (2.4.7)\n",
      "Note: you may need to restart the kernel to use updated packages.\n"
     ]
    }
   ],
   "source": [
    "pip install nbconvert"
   ]
  },
  {
   "cell_type": "code",
   "execution_count": 57,
   "id": "4d34e1b9",
   "metadata": {},
   "outputs": [
    {
     "name": "stdout",
     "output_type": "stream",
     "text": [
      "Collecting pandoc\n",
      "  Downloading pandoc-2.2.tar.gz (29 kB)\n",
      "Collecting plumbum\n",
      "  Downloading plumbum-1.8.0-py3-none-any.whl (117 kB)\n",
      "Requirement already satisfied: ply in c:\\users\\shams\\anaconda3\\lib\\site-packages (from pandoc) (3.11)\n",
      "Requirement already satisfied: pywin32 in c:\\users\\shams\\anaconda3\\lib\\site-packages (from plumbum->pandoc) (227)\n",
      "Building wheels for collected packages: pandoc\n",
      "  Building wheel for pandoc (setup.py): started\n",
      "  Building wheel for pandoc (setup.py): finished with status 'done'\n",
      "  Created wheel for pandoc: filename=pandoc-2.2-py3-none-any.whl size=29547 sha256=362748c761fe0193d2790c979ab2b946e5cf383743e0f11ecf011688afac6a28\n",
      "  Stored in directory: c:\\users\\shams\\appdata\\local\\pip\\cache\\wheels\\ad\\e2\\95\\bd19487eae18d01559429ed7e7678bd82b70a1b55c4e4ae86d\n",
      "Successfully built pandoc\n",
      "Installing collected packages: plumbum, pandoc\n",
      "Successfully installed pandoc-2.2 plumbum-1.8.0\n",
      "Note: you may need to restart the kernel to use updated packages.\n"
     ]
    }
   ],
   "source": [
    "pip install pandoc"
   ]
  },
  {
   "cell_type": "code",
   "execution_count": null,
   "id": "13fdc89d",
   "metadata": {},
   "outputs": [],
   "source": []
  }
 ],
 "metadata": {
  "kernelspec": {
   "display_name": "Python 3",
   "language": "python",
   "name": "python3"
  },
  "language_info": {
   "codemirror_mode": {
    "name": "ipython",
    "version": 3
   },
   "file_extension": ".py",
   "mimetype": "text/x-python",
   "name": "python",
   "nbconvert_exporter": "python",
   "pygments_lexer": "ipython3",
   "version": "3.8.8"
  }
 },
 "nbformat": 4,
 "nbformat_minor": 5
}
